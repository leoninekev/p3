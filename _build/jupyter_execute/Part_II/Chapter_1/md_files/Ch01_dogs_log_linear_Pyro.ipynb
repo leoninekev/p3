{
 "cells": [
  {
   "cell_type": "markdown",
   "id": "0afe4405",
   "metadata": {},
   "source": [
    "## Chapter 01  - Dogs: loglinear model for binary data\n",
    "\n",
    "**Background:** Solomon-Wynne in 1953 conducted an experiment on avoidance learning in dogs from traumatic experiences in past such as those from electric shocks.\n",
    "The apparatus of experiment holds a dog in a closed compartment with steel flooring, open on side with a small barrier for dog to jump over to the other side. A high-voltage electric shock is discharged into the steel floor intermittently to stimulate the dog; Thus the dog is effectively left with an option to either get the shock for that trial or jump over the barrier to other side & save himself. Several dogs were subjected to similar experiment for many consecutive trials.\n",
    "This picture elicits the apparatus\n",
    "\n",
    "![dog_setup](../data/avoidance_learning.png)\n",
    "\n",
    "The elaborate details of the experiment can be found at\n",
    "http://www.appstate.edu/~steelekm/classes/psy5300/Documents/Solomon&Wynne%201953.pdf\n",
    "\n",
    "The hypothesis is that most of the dogs learnt to avoid shocks by jumping over barrier to the other side after suffering the trauma of shock in previous trials. That inturn sustain dogs in future encounters with electric shocks."
   ]
  },
  {
   "cell_type": "markdown",
   "id": "338a1171",
   "metadata": {},
   "source": [
    "Since the experiment aims to study the avoidance learning in dogs from past traumatic experiences and reach a plausible model where dogs learn to avoid scenerios responsible for causing trauma, we describe the phenomenon using expression\n",
    "$$\n",
    "\\pi_j   =   A^{xj} B^{j-xj}\n",
    "$$\n",
    "Where :\n",
    "   * $\\pi_j$ is the probability of a dog getting shocked at trial $j$\n",
    "   * A & B both are random variables drawing values from Normal distribution\n",
    "   * $x_j$ is number of successful avoidances of shock prior to trial $j$.\n",
    "   * $j-x_j$ is number of shocks experienced prior to trial $j$.\n",
    "In the subsequent \n",
    "\n",
    "The hypothesis is thus corroborated by Bayesian modelling and comprehensive analysis of dogs data available from Solomon-Wynne experiment in Pyro."
   ]
  },
  {
   "cell_type": "markdown",
   "id": "81bf3a0b",
   "metadata": {},
   "source": [
    "The data is analysed step by step in accordance with Bayesian workflow as described in \"Bayesian Workflow\", Prof. Andrew Gelman [http://www.stat.columbia.edu/~gelman/research/unpublished/Bayesian_Workflow_article.pdf].\n",
    "\n",
    "Import following dependencies."
   ]
  },
  {
   "cell_type": "code",
   "execution_count": null,
   "id": "52e9b900",
   "metadata": {
    "executionInfo": {
     "elapsed": 6169,
     "status": "ok",
     "timestamp": 1623577200920,
     "user": {
      "displayName": "Prakash Bisht",
      "photoUrl": "https://lh3.googleusercontent.com/a-/AOh14Gg71UhlMzZ9j0s6yb20foecaUtAreORzpelAwZ7=s64",
      "userId": "09904604772126702200"
     },
     "user_tz": -330
    },
    "id": "Ms0aLokjLEbU"
   },
   "outputs": [],
   "source": [
    "import os\n",
    "import torch\n",
    "import pyro\n",
    "import random\n",
    "import time\n",
    "import numpy as np\n",
    "import pandas as pd\n",
    "import re\n",
    "import itertools\n",
    "import seaborn as sns\n",
    "import matplotlib.pyplot as plt\n",
    "from functools import partial\n",
    "from collections import defaultdict\n",
    "\n",
    "from scipy import stats\n",
    "import pyro.distributions as dist\n",
    "from torch import nn\n",
    "from pyro.nn import PyroModule\n",
    "from pyro.infer import MCMC, NUTS\n",
    "\n",
    "\n",
    "import plotly\n",
    "import plotly.express as px\n",
    "import plotly.figure_factory as ff\n",
    "\n",
    "pyro.set_rng_seed(1)\n",
    "\n",
    "# Uncomment following if pandas available with plotly backend\n",
    "\n",
    "# pd.options.plotting.backend = \"plotly\"\n",
    "\n",
    "%matplotlib inline\n",
    "plt.style.use('default')"
   ]
  },
  {
   "cell_type": "markdown",
   "id": "0ae9ebc5",
   "metadata": {
    "id": "PEyNZPH0LEbf"
   },
   "source": [
    "### 1. Model Specification: Dogs Model definition\n",
    "________\n",
    "$$\n",
    "\\pi_j   =   A^{xj} B^{j-xj}\n",
    "$$\n",
    "\n",
    "We intend to find most probable values for parameters $\\alpha$ & $\\beta$ (dubbed as random variable A & B respectively) in the expression to compute likelihood ($\\pi_j$) of dogs getting shocked.\n",
    "\n",
    "**Generative model for resulting likelihood of shock:**\n",
    "\n",
    "$\\pi_j$  ~   $bern\\ (\\exp \\ (\\alpha.XAvoidance + \\beta.XShocked)\\ )$,  $prior\\ \\alpha$ ~ $N(0., 316.)$,  $\\beta$ ~ $N(0., 316.)$\n",
    "\n",
    "The above expression is used as a generalised linear model with log-link function in WinBugs implementation\n",
    "\n",
    "  **BUGS model**\n",
    "  \n",
    "$\\log\\pi_j = \\alpha\\ x_j + \\beta\\ ( $j$-x_j )$\n",
    "\n",
    "   **Here**\n",
    "   * $\\log\\pi_j$ is log probability of a dog getting shocked at trial $j$\n",
    "   * $x_j$ is number of successful avoidances of shock prior to trial $j$.\n",
    "   * $j-x_j$ is number of shocks experienced prior to trial $j$.\n",
    "   *  $\\alpha$ is the coefficient corresponding to number of success, $\\beta$ is the coefficient corresponding to number of failures.\n",
    "\n",
    "  \n",
    "  ____________________\n",
    "The same model when implemented in PyStan\n",
    "  \n",
    "  **Equivalent Stan model** \n",
    "  \n",
    "      {\n",
    "  \n",
    "      alpha ~ normal(0.0, 316.2);\n",
    "  \n",
    "      beta  ~ normal(0.0, 316.2);\n",
    "  \n",
    "      for(dog in 1:Ndogs)\n",
    "  \n",
    "        for (trial in 2:Ntrials)  \n",
    "\n",
    "          y[dog, trial] ~ bernoulli(exp(alpha * xa[dog, trial] + beta * \n",
    "          xs[dog, trial]));\n",
    "      \n",
    "      }"
   ]
  },
  {
   "cell_type": "markdown",
   "id": "bd72fe61",
   "metadata": {},
   "source": [
    "**Model implementation**\n",
    "\n",
    "The model is defined using Pyro as per the expression of generative model for this dataset as follows"
   ]
  },
  {
   "cell_type": "code",
   "execution_count": null,
   "id": "e80c595c",
   "metadata": {
    "executionInfo": {
     "elapsed": 1317,
     "status": "ok",
     "timestamp": 1623577232137,
     "user": {
      "displayName": "Prakash Bisht",
      "photoUrl": "https://lh3.googleusercontent.com/a-/AOh14Gg71UhlMzZ9j0s6yb20foecaUtAreORzpelAwZ7=s64",
      "userId": "09904604772126702200"
     },
     "user_tz": -330
    },
    "id": "t97Z-yZOLEbf"
   },
   "outputs": [],
   "source": [
    "# Dogs model with normal prior\n",
    "def DogsModel(x_avoidance, x_shocked, y):\n",
    "    \"\"\"\n",
    "    Input\n",
    "    -------\n",
    "    x_avoidance: tensor holding avoidance count for all dogs & all trials, example for \n",
    "                 30 dogs & 25 trials, shaped (30, 25)\n",
    "    x_shocked:   tensor holding shock count for all dogs & all trials, example for 30 dogs\n",
    "                 & 25 trials, shaped (30, 25).\n",
    "    y:           tensor holding response for all dogs & trials, example for 30 dogs\n",
    "                 & 25 trials, shaped (30, 25).\n",
    "    \n",
    "    Output\n",
    "    --------\n",
    "    Implements pystan model: {\n",
    "              alpha ~ normal(0.0, 316.2);\n",
    "              beta  ~ normal(0.0, 316.2);\n",
    "              for(dog in 1:Ndogs)  \n",
    "                for (trial in 2:Ntrials)  \n",
    "                  y[dog, trial] ~ bernoulli(exp(alpha * xa[dog, trial] + beta * xs[dog, trial]));}\n",
    "    \"\"\"\n",
    "    alpha = pyro.sample(\"alpha\", dist.Normal(0., 316.))\n",
    "    beta = pyro.sample(\"beta\", dist.Normal(0., 316))\n",
    "    with pyro.plate(\"data\"):\n",
    "        pyro.sample(\"obs\", dist.Bernoulli(torch.exp(alpha*x_avoidance + beta * x_shocked)), obs=y)"
   ]
  },
  {
   "cell_type": "markdown",
   "id": "3a435843",
   "metadata": {},
   "source": [
    "**Dogs data**\n",
    "\n",
    "Following holds the Dogs data in the pystan modelling format"
   ]
  },
  {
   "cell_type": "code",
   "execution_count": null,
   "id": "81c00fe7",
   "metadata": {},
   "outputs": [],
   "source": [
    "dogs_data = {\"Ndogs\":30, \n",
    "             \"Ntrials\":25, \n",
    "             \"Y\": np.array([0, 0, 0, 0, 0, 0, 0, 0, 0, 0, 0, 0, 0, 0, 0, 0, 0, 0, 0, 0, 0, 0, 0, 0, 0, 0, 0, 0, 0, 0, 0, 0, 0, 1, 0, 0, 0, 0, \n",
    "                  0, 0, 0, 0, 0, 0, 0, 0, 1, 0, 1, 0, 0, 0, 0, 0, 0, 0, 0, 0, 0, 0, 1, 0, 0, 1, 0, 0, 0, 0, 0, 0, 0, 0, 0, 0, 0, 0, 0, 0, 0, 0, \n",
    "                  0, 1, 0, 0, 0, 1, 0, 0, 0, 0, 0, 0, 0, 0, 0, 0, 0, 0, 0, 0, 0, 0, 1, 0, 1, 0, 1, 0, 0, 0, 1, 0, 0, 0, 0, 0, 0, 1, 0, 0, 1, 0, \n",
    "                  0, 0, 0, 0, 0, 0, 0, 1, 0, 0, 1, 1, 0, 0, 0, 1, 0, 1, 1, 1, 0, 0, 0, 1, 1, 0, 1, 1, 0, 0, 1, 1, 0, 0, 1, 0, 1, 0, 0, 1, 0, 0, \n",
    "                  1, 0, 0, 0, 0, 1, 1, 0, 0, 0, 0, 1, 0, 1, 1, 1, 1, 0, 1, 1, 0, 1, 0, 0, 0, 0, 0, 1, 1, 1, 1, 0, 0, 1, 1, 0, 1, 1, 0, 0, 1, 1, \n",
    "                  1, 0, 0, 1, 1, 1, 0, 1, 0, 1, 0, 1, 1, 1, 0, 1, 0, 1, 0, 1, 1, 0, 0, 1, 1, 1, 1, 0, 1, 0, 1, 1, 0, 1, 1, 0, 1, 1, 1, 1, 0, 1, \n",
    "                  0, 1, 0, 1, 0, 0, 1, 1, 0, 1, 0, 0, 0, 1, 1, 1, 0, 1, 1, 1, 1, 1, 1, 0, 1, 0, 1, 1, 0, 0, 1, 0, 0, 1, 1, 1, 1, 1, 1, 1, 0, 1, \n",
    "                  1, 1, 1, 1, 1, 1, 1, 1, 1, 1, 1, 0, 0, 1, 1, 0, 0, 0, 1, 1, 1, 0, 1, 1, 1, 1, 1, 1, 1, 1, 1, 1, 1, 1, 1, 0, 1, 0, 1, 0, 1, 0, \n",
    "                  0, 0, 1, 0, 0, 1, 0, 0, 1, 0, 1, 1, 1, 1, 1, 1, 1, 0, 1, 1, 1, 0, 1, 1, 1, 1, 0, 1, 1, 0, 1, 1, 1, 1, 1, 1, 1, 1, 1, 1, 1, 1, \n",
    "                  1, 1, 1, 1, 1, 1, 1, 1, 1, 1, 0, 1, 1, 1, 1, 0, 1, 0, 1, 0, 1, 0, 1, 1, 0, 1, 1, 1, 1, 1, 1, 1, 0, 0, 1, 0, 1, 1, 1, 0, 1, 1, \n",
    "                  1, 1, 0, 1, 1, 0, 0, 1, 1, 1, 1, 1, 0, 1, 1, 1, 1, 1, 1, 1, 1, 1, 1, 1, 1, 1, 1, 0, 0, 1, 1, 1, 1, 1, 1, 1, 1, 1, 1, 1, 1, 1, \n",
    "                  0, 1, 1, 1, 1, 1, 1, 1, 1, 1, 1, 1, 1, 1, 1, 0, 1, 1, 1, 1, 0, 1, 1, 1, 0, 1, 1, 1, 1, 1, 1, 1, 1, 1, 1, 1, 1, 1, 1, 1, 1, 1, \n",
    "                  1, 0, 1, 1, 1, 1, 1, 1, 1, 1, 1, 1, 1, 1, 1, 1, 1, 1, 1, 1, 1, 1, 1, 1, 1, 1, 1, 1, 1, 1, 1, 0, 1, 1, 1, 1, 1, 1, 0, 1, 1, 1, \n",
    "                  1, 1, 1, 1, 1, 1, 1, 1, 1, 1, 1, 1, 1, 1, 1, 1, 1, 1, 1, 1, 1, 0, 1, 1, 1, 1, 1, 1, 1, 1, 1, 1, 1, 1, 1, 1, 1, 1, 1, 1, 1, 1, \n",
    "                  1, 1, 1, 1, 1, 1, 1, 1, 1, 1, 1, 1, 1, 1, 1, 1, 1, 1, 1, 1, 1, 1, 1, 1, 1, 1, 1, 1, 1, 1, 1, 1, 1, 1, 1, 1, 1, 1, 1, 1, 1, 1, \n",
    "                  1, 1, 1, 1, 1, 1, 1, 1, 1, 1, 1, 1, 0, 1, 1, 1, 1, 1, 1, 1, 1, 1, 1, 1, 1, 1, 1, 1, 1, 1, 1, 1, 1, 1, 1, 1, 1, 1, 1, 1, 1, 1, \n",
    "                  1, 1, 1, 1, 1, 1, 1, 1, 1, 1, 1, 1, 1, 1, 1, 1, 1, 1, 1, 1, 1, 1, 1, 1, 1, 1, 1, 1, 1, 1, 1, 1, 1, 1, 1, 1, 1, 1, 1, 1, 1, 1, \n",
    "                  1, 1, 1, 1, 1, 1, 1, 1, 1, 1, 1, 1, 1, 1, 1, 1, 1, 1, 0, 1, 1, 1, 1, 1, 1, 1, 1, 1, 1, 1, 1, 1, 1, 1, 1, 1, 1, 1, 1, 1]).reshape((30,25))}"
   ]
  },
  {
   "cell_type": "markdown",
   "id": "28a8c53e",
   "metadata": {
    "id": "fInwPn5JLEbh"
   },
   "source": [
    "**Following processes target label `y` to obtain input data `x_avoidance` & `x_shocked` where:**\n",
    "* `x_avoidance` :  number of shock avoidances before current trial.\n",
    "* `x_shocked` :  number of shocks before current trial."
   ]
  },
  {
   "cell_type": "code",
   "execution_count": null,
   "id": "43d2b76c",
   "metadata": {},
   "outputs": [],
   "source": [
    "def transform_data(Ndogs=30, Ntrials=25, Y= np.array([0, 0, 0, 0])):\n",
    "    \"\"\"\n",
    "    Input\n",
    "    -------\n",
    "    Ndogs: Total number of Dogs i.e., 30\n",
    "    Ntrials: Total number of Trials i.e., 25\n",
    "    Y: Raw responses from data, example: np.array([0, 0, 0, 0])\n",
    "    \n",
    "    Outputs\n",
    "    ---------\n",
    "    xa: tensor holding avoidance count for all dogs & all trials\n",
    "    xs: tensor holding shock count for all dogs & all trials\n",
    "    y: tensor holding response observation for all dogs & all trials\n",
    "    \n",
    "    \"\"\"\n",
    "    y= np.zeros((Ndogs, Ntrials))\n",
    "    xa= np.zeros((Ndogs, Ntrials))\n",
    "    xs= np.zeros((Ndogs, Ntrials))\n",
    "\n",
    "    for dog in range(Ndogs):\n",
    "        for trial in range(1, Ntrials+1):\n",
    "            xa[dog, trial-1]= np.sum(Y[dog, :trial-1]) #Number of successful avoidances uptill previous trial\n",
    "            xs[dog, trial-1]= trial -1 - xa[dog, trial-1] #Number of shocks uptill previous trial\n",
    "    for dog in range(Ndogs):\n",
    "        for trial in range(Ntrials):\n",
    "            y[dog, trial]= 1- Y[dog, trial]\n",
    "    xa= torch.tensor(xa, dtype=torch.float)\n",
    "    xs= torch.tensor(xs, dtype=torch.float)  \n",
    "    y= torch.tensor(y, dtype=torch.float)\n",
    "\n",
    "    return xa, xs, y"
   ]
  },
  {
   "cell_type": "markdown",
   "id": "40b0a4a5",
   "metadata": {},
   "source": [
    "**Here the py-stan format data (python dictionary) is passed to the function above, in order to preprocess it to tensor format required for pyro sampling**"
   ]
  },
  {
   "cell_type": "code",
   "execution_count": null,
   "id": "3fa0895e",
   "metadata": {},
   "outputs": [],
   "source": [
    "x_avoidance, x_shocked, y= transform_data(**dogs_data)\n",
    "print(\"x_avoidance: %s, x_shocked: %s, y: %s\"%(x_avoidance.shape, x_shocked.shape, y.shape))\n",
    "\n",
    "print(\"\\nSample x_avoidance: %s \\n\\nSample x_shocked: %s\"%(x_avoidance[1], x_shocked[1]))"
   ]
  },
  {
   "cell_type": "markdown",
   "id": "a2aee411",
   "metadata": {},
   "source": [
    "### 2. Prior predictive checking\n",
    "\n",
    "These checks help to understand the implications of a prior distributions of underlying parameters (random variables) in the context of a given generative model by simulating from the model rather than observed data."
   ]
  },
  {
   "cell_type": "code",
   "execution_count": null,
   "id": "e6bf516f",
   "metadata": {},
   "outputs": [],
   "source": [
    "priors_list= [(pyro.sample(\"alpha\", dist.Normal(0., 316.)).item(), \n",
    "               pyro.sample(\"beta\", dist.Normal(0., 316.)).item()) for index in range(1100)]# Picking 1100 prior samples\n",
    "\n",
    "prior_samples = {\"alpha\":list(map(lambda prior_pair:prior_pair[0], priors_list)), \"beta\":list(map(lambda prior_pair:prior_pair[1], priors_list))}"
   ]
  },
  {
   "cell_type": "markdown",
   "id": "3eea4e6b",
   "metadata": {},
   "source": [
    "Sampled output of prior values for alpha & beta is stored in `prior_samples` above, and is plotted on a KDE plot as follows:\n",
    "```{caution} Following is an interactive plot, can be visualised fully in Binder.\n",
    "```"
   ]
  },
  {
   "cell_type": "code",
   "execution_count": null,
   "id": "7af89214",
   "metadata": {
    "tags": [
     "hide-output"
    ]
   },
   "outputs": [],
   "source": [
    "fig = ff.create_distplot(list(prior_samples.values()), list(prior_samples.keys()))\n",
    "fig.update_layout(title=\"Prior distribution of parameters\", xaxis_title=\"parameter values\", yaxis_title=\"density\", legend_title=\"parameters\")\n",
    "fig.show()\n",
    "\n",
    "print(\"Prior alpha Q(0.5) :%s | Prior beta Q(0.5) :%s\"%(np.quantile(prior_samples[\"alpha\"], 0.5), np.quantile(prior_samples[\"beta\"], 0.5)))"
   ]
  },
  {
   "cell_type": "markdown",
   "id": "3f36d5d0",
   "metadata": {},
   "source": [
    "### 3. Posterior estimation\n",
    "\n",
    "In the parlance of probability theory, Posterior implies the probability of updated beliefs in regard to a quantity or parameter of interest, in the wake of given evidences and prior information.\n",
    "\n",
    "$$Posterior = \\frac {Likelihood x Prior}{Probability \\ of Evidence}$$\n",
    "\n",
    "\n",
    " \n",
    "For the parameters of interest $\\alpha,\\beta$ & evidence y; Posterior can be denoted as $P\\ (\\alpha,\\beta\\ /\\ y)$.\n",
    "\n",
    "\n",
    "$$P\\ (\\alpha,\\beta\\ /\\ y) = \\frac {P\\ (y /\\ \\alpha,\\beta) P(\\alpha,\\beta)}{P(y)}$$\n",
    "\n",
    "Posterior, $P\\ (\\alpha,\\beta\\ /\\ y)$ in regard to this experiment is the likelihood of parameter values (i.e., Coefficient of instances avoided dubbed retention ability & Coefficient of instances shocked dubbed learning ability) given the observed instances `y` of getting shocked. Where $P(\\alpha,\\beta)$ is prior information/likelihood of parameter values."
   ]
  },
  {
   "cell_type": "markdown",
   "id": "422923a5",
   "metadata": {},
   "source": [
    "The following intakes a pyro model object with defined priors, input data and some configuration in regard to chain counts & chain length prior to launching a `MCMC NUTs sampler` and outputs MCMC chained samples in a python dictionary format."
   ]
  },
  {
   "cell_type": "code",
   "execution_count": null,
   "id": "80810ae0",
   "metadata": {
    "executionInfo": {
     "elapsed": 2,
     "status": "ok",
     "timestamp": 1623577234806,
     "user": {
      "displayName": "Prakash Bisht",
      "photoUrl": "https://lh3.googleusercontent.com/a-/AOh14Gg71UhlMzZ9j0s6yb20foecaUtAreORzpelAwZ7=s64",
      "userId": "09904604772126702200"
     },
     "user_tz": -330
    },
    "id": "bs6JMaCvLEbl"
   },
   "outputs": [],
   "source": [
    "def get_hmc_n_chains(pyromodel, xa, xs, y, num_chains=4, base_count = 900):\n",
    "    \"\"\"\n",
    "    Input\n",
    "    -------\n",
    "    pyromodel: Pyro model object with specific prior distribution\n",
    "    xa: tensor holding avoidance count for all dogs & all trials\n",
    "    xs: tensor holding shock count for all dogs & all trials\n",
    "    y: tensor holding response observation for all dogs & all trials\n",
    "    num_chains: Count of MCMC chains to launch, default 4\n",
    "    base_count:Minimum count of samples in a MCMC chains , default 900\n",
    "    \n",
    "    Ouputs\n",
    "    ---------\n",
    "    hmc_sample_chains: a dictionary with chain names as keys & dictionary of parameter vs sampled values list as values \n",
    "    \n",
    "    \"\"\"\n",
    "    hmc_sample_chains =defaultdict(dict)\n",
    "    possible_samples_list= random.sample(list(np.arange(base_count, base_count+num_chains*100, 50)), num_chains)\n",
    "    possible_burnin_list= random.sample(list(np.arange(100, 500, 50)), num_chains)\n",
    "\n",
    "    t1= time.time()\n",
    "    for idx, val in enumerate(list(zip(possible_samples_list, possible_burnin_list))):\n",
    "        num_samples, burnin= val[0], val[1]\n",
    "        nuts_kernel = NUTS(pyromodel)\n",
    "        mcmc = MCMC(nuts_kernel, num_samples=num_samples, warmup_steps=burnin)\n",
    "        mcmc.run(xa, xs, y)\n",
    "        hmc_sample_chains['chain_{}'.format(idx)]={k: v.detach().cpu().numpy() for k, v in mcmc.get_samples().items()}\n",
    "\n",
    "    print(\"\\nTotal time: \", time.time()-t1)\n",
    "    hmc_sample_chains= dict(hmc_sample_chains)\n",
    "    return hmc_sample_chains"
   ]
  },
  {
   "cell_type": "code",
   "execution_count": null,
   "id": "e954f76d",
   "metadata": {
    "tags": [
     "hide-output"
    ]
   },
   "outputs": [],
   "source": [
    "\n",
    "hmc_sample_chains= get_hmc_n_chains(DogsModel, x_avoidance, x_shocked, y, num_chains=4, base_count = 900)"
   ]
  },
  {
   "cell_type": "markdown",
   "id": "40c50fe9",
   "metadata": {},
   "source": [
    "`hmc_sample_chains` holds sampled MCMC values as `{\"Chain_0\": {alpha\t[-0.20020795, -0.1829252, -0.18054989 . .,], \"beta\": {}. .,}, \"Chain_1\": {alpha\t[-0.20020795, -0.1829252, -0.18054989 . .,], \"beta\": {}. .,}. .}`"
   ]
  },
  {
   "cell_type": "markdown",
   "id": "879ecc27",
   "metadata": {},
   "source": [
    "### 4. Diagnosing model fit\n",
    "\n",
    "Model fit diagnosis consists of briefly obtaining core statistical values from sampled outputs and assess the convergence of various chains from the output, before moving onto inferencing or evaluating predictive power of model."
   ]
  },
  {
   "cell_type": "markdown",
   "id": "5bbd9c93",
   "metadata": {
    "id": "KvtBKq-uLEbo"
   },
   "source": [
    "Following plots **Parameter vs. Chain matrix** and optionally saves the dataframe."
   ]
  },
  {
   "cell_type": "code",
   "execution_count": null,
   "id": "042db76d",
   "metadata": {},
   "outputs": [],
   "source": [
    "beta_chain_matrix_df = pd.DataFrame(hmc_sample_chains)\n",
    "# beta_chain_matrix_df.to_csv(\"dogs_log_regression_hmc_sample_chains.csv\", index=False)\n",
    "beta_chain_matrix_df"
   ]
  },
  {
   "cell_type": "markdown",
   "id": "d230e21c",
   "metadata": {
    "id": "WBVWFWcPLEbs"
   },
   "source": [
    "**Key statistic results as dataframe**\n",
    "\n",
    "Following method maps the values of required statistics, given a list of statistic names"
   ]
  },
  {
   "cell_type": "code",
   "execution_count": null,
   "id": "470646e9",
   "metadata": {
    "executionInfo": {
     "elapsed": 340,
     "status": "ok",
     "timestamp": 1623421388387,
     "user": {
      "displayName": "Prakash Bisht",
      "photoUrl": "https://lh3.googleusercontent.com/a-/AOh14Gg71UhlMzZ9j0s6yb20foecaUtAreORzpelAwZ7=s64",
      "userId": "09904604772126702200"
     },
     "user_tz": -330
    },
    "id": "9xRtpO9DLEbt"
   },
   "outputs": [],
   "source": [
    "all_metric_func_map = lambda metric, vals: {\"mean\":np.mean(vals), \"std\":np.std(vals), \n",
    "                                            \"25%\":np.quantile(vals, 0.25), \n",
    "                                            \"50%\":np.quantile(vals, 0.50), \n",
    "                                            \"75%\":np.quantile(vals, 0.75)}.get(metric)"
   ]
  },
  {
   "cell_type": "markdown",
   "id": "0c87d6f6",
   "metadata": {},
   "source": [
    "**Following outputs the summary of required statistics such as `\"mean\", \"std\", \"Q(0.25)\", \"Q(0.50)\", \"Q(0.75)\"`, given a list of statistic names**"
   ]
  },
  {
   "cell_type": "code",
   "execution_count": null,
   "id": "c89a8d63",
   "metadata": {},
   "outputs": [],
   "source": [
    "key_metrics= [\"mean\", \"std\", \"25%\", \"50%\", \"75%\"]\n",
    "\n",
    "summary_stats_df_= pd.DataFrame()\n",
    "for metric in key_metrics:\n",
    "    final_di = {}\n",
    "    for column in beta_chain_matrix_df.columns:\n",
    "        params_per_column_di = dict(beta_chain_matrix_df[column].apply(lambda x: all_metric_func_map(metric, x)))\n",
    "        final_di[column]= params_per_column_di\n",
    "    metric_df_= pd.DataFrame(final_di)\n",
    "    metric_df_[\"parameter\"]= metric\n",
    "    summary_stats_df_= pd.concat([summary_stats_df_, metric_df_], axis=0)\n",
    "\n",
    "summary_stats_df_.reset_index(inplace=True)\n",
    "summary_stats_df_.rename(columns= {\"index\":\"metric\"}, inplace=True)\n",
    "summary_stats_df_.set_index([\"parameter\", \"metric\"], inplace=True)\n",
    "summary_stats_df_"
   ]
  },
  {
   "cell_type": "markdown",
   "id": "6a64988b",
   "metadata": {
    "id": "0kY2KT_eLEby"
   },
   "source": [
    "**Obtain 5 point Summary statistics (mean, Q1-Q4, Std, ) as tabular data per chain and save the dataframe.**"
   ]
  },
  {
   "cell_type": "code",
   "execution_count": null,
   "id": "83e6df77",
   "metadata": {},
   "outputs": [],
   "source": [
    "fit_df = pd.DataFrame()\n",
    "for chain, values in hmc_sample_chains.items():\n",
    "    param_df = pd.DataFrame(values)\n",
    "    param_df[\"chain\"]= chain\n",
    "    fit_df= pd.concat([fit_df, param_df], axis=0)\n",
    "\n",
    "fit_df.to_csv(\"data/dogs_classification_hmc_samples.csv\", index=False)    \n",
    "fit_df"
   ]
  },
  {
   "cell_type": "code",
   "execution_count": null,
   "id": "12abd0c9",
   "metadata": {
    "colab": {
     "base_uri": "https://localhost:8080/",
     "height": 417
    },
    "executionInfo": {
     "elapsed": 441,
     "status": "ok",
     "timestamp": 1623577248091,
     "user": {
      "displayName": "Prakash Bisht",
      "photoUrl": "https://lh3.googleusercontent.com/a-/AOh14Gg71UhlMzZ9j0s6yb20foecaUtAreORzpelAwZ7=s64",
      "userId": "09904604772126702200"
     },
     "user_tz": -330
    },
    "id": "SjSaiNY0LEb0",
    "outputId": "3af4b451-f1ff-42f2-e627-ce16f9baaf9b"
   },
   "outputs": [],
   "source": [
    "# Use/Uncomment following once the results from pyro sampling operation are saved offline\n",
    "# fit_df= pd.read_csv(\"data/dogs_classification_hmc_samples.csv\")\n",
    "\n",
    "fit_df"
   ]
  },
  {
   "cell_type": "markdown",
   "id": "114637a5",
   "metadata": {},
   "source": [
    "Following outputs the similar summary of required statistics such as `\"mean\", \"std\", \"Q(0.25)\", \"Q(0.50)\", \"Q(0.75)\"`, **But in a slightly different format**, given a list of statistic names**"
   ]
  },
  {
   "cell_type": "code",
   "execution_count": null,
   "id": "62624fa8",
   "metadata": {},
   "outputs": [],
   "source": [
    "summary_stats_df_2= pd.DataFrame()\n",
    "\n",
    "for param in [\"alpha\", \"beta\"]:\n",
    "    for name, groupdf in fit_df.groupby(\"chain\"):\n",
    "        groupdi = dict(groupdf[param].describe())\n",
    "\n",
    "        values = dict(map(lambda key:(key, [groupdi.get(key)]), ['mean', 'std', '25%', '50%', '75%']))\n",
    "        values.update({\"parameter\": param, \"chain\":name})\n",
    "        summary_stats_df= pd.DataFrame(values)\n",
    "        summary_stats_df_2= pd.concat([summary_stats_df_2, summary_stats_df], axis=0)\n",
    "summary_stats_df_2.set_index([\"parameter\", \"chain\"], inplace=True)\n",
    "summary_stats_df_2"
   ]
  },
  {
   "cell_type": "markdown",
   "id": "dc9b5426",
   "metadata": {
    "id": "vpcbb1FfLEb2"
   },
   "source": [
    "**Following plots sampled parameters values as Boxplots with `M parameters` side by side on x axis for each of the `N chains`**"
   ]
  },
  {
   "cell_type": "code",
   "execution_count": null,
   "id": "b3006bfa",
   "metadata": {},
   "outputs": [],
   "source": [
    "parameters= [\"alpha\", \"beta\"]# All parameters for given model\n",
    "chains= fit_df[\"chain\"].unique()# Number of chains sampled for given model\n",
    "\n",
    "\n",
    "func_all_params_per_chain = lambda param, chain: (param, fit_df[fit_df[\"chain\"]==chain][param].tolist())\n",
    "func_all_chains_per_param = lambda chain, param: (f'{chain}', fit_df[param][fit_df[\"chain\"]==chain].tolist())\n",
    "\n",
    "di_all_params_per_chain = dict(map(lambda param: func_all_params_per_chain(param, \"chain_0\"), parameters))\n",
    "di_all_chains_per_param = dict(map(lambda chain: func_all_chains_per_param(chain, \"beta\"), chains))\n",
    "\n",
    "\n",
    "def plot_parameters_for_n_chains(chains=[\"chain_0\"], parameters=[\"beta0\", \"beta1\", \"beta2\", \"beta3\", \"sigma\"], plotting_cap=[4, 5], plot_interactive=False):\n",
    "    \"\"\"\n",
    "    Input\n",
    "    --------\n",
    "    chains: list of valid chain names, example - [\"chain_0\"].\n",
    "    \n",
    "    parameters: list of valid parameters names, example -[\"beta0\", \"beta1\", \"beta2\", \"beta3\", \"sigma\"].\n",
    "    \n",
    "    plotting_cap: list of Cap on number of chains & Cap on number of parameters to plot, example- [4, 5] \n",
    "                  means cap the plotting of number of chains upto 4 & number of parameters upto 5 ONLY,\n",
    "                  If at all the list size for Chains & parameters passed increases.\n",
    "    \n",
    "    plot_interactive: Flag for using Plotly if True, else Seaborn plots for False.\n",
    "    \n",
    "    \n",
    "    output\n",
    "    -------\n",
    "    Plots box plots for each chain from list of chains with parameters on x axis.\n",
    "    \n",
    "    \"\"\"\n",
    "    try:\n",
    "        chain_cap, param_cap = plotting_cap#\n",
    "        assert len(chains)<=chain_cap, \"Cannot plot Number of chains greater than %s!\"%chain_cap\n",
    "        assert len(parameters)<=param_cap, \"Cannot plot Number of parameters greater than %s!\"%param_cap\n",
    "        \n",
    "        for chain in chains:\n",
    "            di_all_params_per_chain = dict(map(lambda param: func_all_params_per_chain(param, chain), parameters))\n",
    "            df_all_params_per_chain = pd.DataFrame(di_all_params_per_chain)\n",
    "            if df_all_params_per_chain.empty:\n",
    "#                 raise Exception(\"Invalid chain number in context of model!\")\n",
    "                print(\"Note: Chain number [%s] is Invalid in context of this model!\"%chain)\n",
    "                continue\n",
    "            if plot_interactive:\n",
    "                df_all_params_per_chain= df_all_params_per_chain.unstack().reset_index(level=0)\n",
    "                df_all_params_per_chain.rename(columns={\"level_0\":\"parameters\", 0:\"values\"}, inplace=True)\n",
    "                fig = px.box(df_all_params_per_chain, x=\"parameters\", y=\"values\")\n",
    "                fig.update_layout(height=600, width=900, title_text=f'{chain}')\n",
    "                fig.show()\n",
    "            else:\n",
    "                df_all_params_per_chain.plot.box()\n",
    "                plt.title(f'{chain}')\n",
    "    except Exception as error:\n",
    "        if type(error) is AssertionError:\n",
    "            print(\"Note: %s\"%error)\n",
    "            chains = np.random.choice(chains, chain_cap, replace=False)\n",
    "            parameters=np.random.choice(parameters, param_cap, replace=False)\n",
    "            plot_parameters_for_n_chains(chains, parameters)\n",
    "        else: print(\"Error: %s\"%error)"
   ]
  },
  {
   "cell_type": "markdown",
   "id": "d6b9b20d",
   "metadata": {
    "id": "vpcbb1FfLEb2"
   },
   "source": [
    "**Pass the list of `M parameters` and list of `N chains`, with `plot_interactive` as `True or False` to choose between Plotly or Seaborn**\n",
    "\n",
    "```{caution} Following is an interactive plot, can be visualised fully Only in Binder.\n",
    "```"
   ]
  },
  {
   "cell_type": "code",
   "execution_count": null,
   "id": "dbbc1715",
   "metadata": {
    "tags": [
     "hide-output"
    ]
   },
   "outputs": [],
   "source": [
    "# Use plot_interactive=False for Normal seaborn plots offline\n",
    "\n",
    "plot_parameters_for_n_chains(chains=['chain_0', 'chain_1', 'chain_2', 'chain_3'], parameters=parameters, plot_interactive=True)"
   ]
  },
  {
   "cell_type": "markdown",
   "id": "c5ffc53c",
   "metadata": {},
   "source": [
    "**Following plots the `joint distribution` of `pair of each parameter` sampled values for all chains**"
   ]
  },
  {
   "cell_type": "code",
   "execution_count": null,
   "id": "d062e90a",
   "metadata": {},
   "outputs": [],
   "source": [
    "all_combination_params = list(itertools.combinations(parameters, 2))\n",
    "\n",
    "for param_combo in all_combination_params:\n",
    "    param1, param2= param_combo\n",
    "    print(\"\\nPyro -- %s\"%(f'{param1} Vs. {param2}'))\n",
    "    sns.jointplot(data=fit_df, x=param1, y=param2, hue= \"chain\")\n",
    "    plt.title(f'{param1} Vs. {param2}')\n",
    "    plt.show()\n",
    "    "
   ]
  },
  {
   "cell_type": "markdown",
   "id": "c3e2e942",
   "metadata": {},
   "source": [
    "**Following plots the `Pairplot distribution` of each parameter with every other parameter's sampled values**"
   ]
  },
  {
   "cell_type": "code",
   "execution_count": null,
   "id": "665f55db",
   "metadata": {},
   "outputs": [],
   "source": [
    "sns.pairplot(data=fit_df, hue= \"chain\");"
   ]
  },
  {
   "cell_type": "markdown",
   "id": "1c73f081",
   "metadata": {
    "id": "OQiIL8QULEc4"
   },
   "source": [
    "**Following intakes the list of parameters say `[\"alpha\", \"beta\"]` and plots hexbins for each interaction pair for all possible combinations of parameters `alpha & beta`.**"
   ]
  },
  {
   "cell_type": "code",
   "execution_count": null,
   "id": "92a6742e",
   "metadata": {},
   "outputs": [],
   "source": [
    "def hexbin_plot(x, y, x_label, y_label):\n",
    "    \"\"\"\n",
    "    \n",
    "    Input\n",
    "    -------\n",
    "    x: Pandas series or list of values to plot on x axis.\n",
    "    y: Pandas series or list of values to plot on y axis.\n",
    "    x_label: variable name x label. \n",
    "    y_label: variable name x label. \n",
    "    \n",
    "    \n",
    "    Output\n",
    "    -------\n",
    "    Plot Hexbin correlation density plots for given values.\n",
    "    \n",
    "    \n",
    "    \"\"\"\n",
    "    \n",
    "    fig = plt.figure()\n",
    "    ax = fig.add_subplot(1, 1, 1)\n",
    "    min_x = min(list(x)+list(y)) - 0.1\n",
    "    max_x = max(list(x)+list(y)) + 0.1\n",
    "    ax.plot([min_x, max_x], [min_x, max_x])\n",
    "    \n",
    "    ax.set_xlim([min_x, max_x])\n",
    "    ax.set_ylim([min_x, max_x])\n",
    "    \n",
    "    ax.set_title('{} vs. {} correlation scatterplot'.format(x_label, y_label))\n",
    "    hbin= ax.hexbin(x, y, gridsize=25, mincnt=1, cmap=plt.cm.Reds)\n",
    "    cb = fig.colorbar(hbin, ax=ax)\n",
    "    cb.set_label('occurence_density')\n",
    "    plt.ylabel(y_label)\n",
    "    plt.xlabel(x_label)\n",
    "    plt.show()\n",
    "\n",
    "def plot_interaction_hexbins(fit_df, parameters=[\"alpha\", \"beta\"]):\n",
    "    \"\"\"\n",
    "    \n",
    "    Input\n",
    "    -------\n",
    "    fit_df: Pandas dataframe containing sampled values across columns with parameter names as column headers\n",
    "    parameters: List of parameters for which all combination of hexbins are to be plotted, defaults to [\"alpha\", \"beta\"]\n",
    "    \n",
    "    \n",
    "    Output\n",
    "    -------\n",
    "    Plots hexbin correlation density plots for each pair of parameter combination.\n",
    "        \n",
    "    \"\"\"\n",
    "    all_combination_params = list(itertools.combinations(parameters, 2))\n",
    "    for param1, param2 in all_combination_params:#Plots interaction between each of two parameters\n",
    "        hexbin_plot(fit_df[param1], fit_df[param2], param1, param2)"
   ]
  },
  {
   "cell_type": "markdown",
   "id": "03b8a1d0",
   "metadata": {
    "id": "vpcbb1FfLEb2"
   },
   "source": [
    "**Here parameters `[\"alpha\", \"beta\"]` are passed to plot all possible interaction pair Hexbin plots in between**"
   ]
  },
  {
   "cell_type": "code",
   "execution_count": null,
   "id": "a493bc17",
   "metadata": {},
   "outputs": [],
   "source": [
    "plot_interaction_hexbins(fit_df, parameters=parameters)"
   ]
  },
  {
   "cell_type": "markdown",
   "id": "e3cccdd8",
   "metadata": {},
   "source": [
    "### 5. Model evaluation: Posterior predictive checks\n",
    "\n",
    "Posterior predictive checking helps examine the fit of a model to real data, as the parameter drawn for simulating conditions & regions of interests come from the posterior distribution."
   ]
  },
  {
   "cell_type": "markdown",
   "id": "ced55f9e",
   "metadata": {},
   "source": [
    "**Pick samples from one particular chain of HMC samples say `chain_3`**"
   ]
  },
  {
   "cell_type": "code",
   "execution_count": null,
   "id": "94ecdf5b",
   "metadata": {},
   "outputs": [],
   "source": [
    "for chain, samples in hmc_sample_chains.items():\n",
    "    samples= dict(map(lambda param: (param, torch.tensor(samples.get(param))), samples.keys()))# np array to tensors\n",
    "    print(chain, \"Sample count: \", len(samples[\"alpha\"]))"
   ]
  },
  {
   "cell_type": "markdown",
   "id": "cd862293",
   "metadata": {},
   "source": [
    "**Plot density for parameters from `chain_3` to visualise the spread of sample values from that chain**\n",
    "\n",
    "```{caution} Following is an interactive plot, can be visualised Only in Binder.\n",
    "```"
   ]
  },
  {
   "cell_type": "code",
   "execution_count": null,
   "id": "818dc114",
   "metadata": {
    "tags": [
     "hide-output"
    ]
   },
   "outputs": [],
   "source": [
    "title= \"parameter distribution for : %s\"%(chain)\n",
    "fig = ff.create_distplot(list(map(lambda x:x.numpy(), samples.values())), list(samples.keys()))\n",
    "fig.update_layout(title=title, xaxis_title=\"parameter values\", yaxis_title=\"density\", legend_title=\"parameters\")\n",
    "fig.show()\n",
    "\n",
    "print(\"Alpha Q(0.5) :%s | Beta Q(0.5) :%s\"%(torch.quantile(samples[\"alpha\"], 0.5), torch.quantile(samples[\"beta\"], 0.5)))"
   ]
  },
  {
   "cell_type": "markdown",
   "id": "28eafdb7",
   "metadata": {},
   "source": [
    "**Plot density & contours for both parameters from `chain_3` to visualise the joint distribution & region of interest**\n",
    "\n",
    "```{caution} Following is an interactive plot, can be visualised Only in Binder.\n",
    "```"
   ]
  },
  {
   "cell_type": "code",
   "execution_count": null,
   "id": "d3fb20a2",
   "metadata": {
    "tags": [
     "hide-output"
    ]
   },
   "outputs": [],
   "source": [
    "\n",
    "fit_df = pd.DataFrame()\n",
    "for chain, values in hmc_sample_chains.items():\n",
    "    param_df = pd.DataFrame(values)\n",
    "    param_df[\"chain\"]= chain\n",
    "    fit_df= pd.concat([fit_df, param_df], axis=0)\n",
    "\n",
    "#Choosing samples from chain 3\n",
    "chain_samples_df= fit_df[fit_df[\"chain\"]==chain].copy()# chain is 'chain_3' \n",
    "\n",
    "alpha= chain_samples_df[\"alpha\"].tolist()\n",
    "beta= chain_samples_df[\"beta\"].tolist()\n",
    "colorscale = ['#7A4579', '#D56073', 'rgb(236,158,105)', (1, 1, 0.2), (0.98,0.98,0.98)]\n",
    "fig = ff.create_2d_density(alpha, beta, colorscale=colorscale, hist_color='rgb(255, 255, 150)', point_size=4, title= \"alpha beta joint density plot\")\n",
    "fig.update_layout( xaxis_title=\"x (alpha)\", yaxis_title=\"y (beta)\")\n",
    "\n",
    "fig.show()"
   ]
  },
  {
   "cell_type": "markdown",
   "id": "23e22ecc",
   "metadata": {},
   "source": [
    "**Note:** The distribution of alpha values are significantly offset to the left from beta values, by almost 13 times; Thus for any given input observation of avoidances or shocked, the likelihood of getting shocked is more influenced by small measure of avoidance than by getting shocked."
   ]
  },
  {
   "cell_type": "markdown",
   "id": "855ab6c7",
   "metadata": {},
   "source": [
    "**Observations:**\n",
    "\n",
    "**On observing the spread of alpha & beta values, the parameter beta being less negative & closer to zero can be interpreted as `learning ability`, i.e., the ability of dog to learn from shock experiences. The increase in number of shocks barely raises the probability of non-avoidance (value of 𝜋𝑗) with little amount. Unless the trials & shocks increase considerably large in progression, it doesn't mellow down well and mostly stays around 0.9.**\n",
    "\n",
    "**Whereas its not the case with alpha, alpha is more negative & farthest from zero. It imparts a significant decline in non-avoidance (𝜋𝑗) even for few instances where dog avoids the shock; therefore alpha can be interpreted as `retention ability` i.e., the ability to retain the learning from previous shock experiences.**"
   ]
  },
  {
   "cell_type": "code",
   "execution_count": null,
   "id": "cd3ec939",
   "metadata": {},
   "outputs": [],
   "source": [
    "print(chain_samples_df[\"alpha\"].describe(),\"\\n\\n\", chain_samples_df[\"beta\"].describe())"
   ]
  },
  {
   "cell_type": "markdown",
   "id": "a0c1fa4e",
   "metadata": {},
   "source": [
    "**From the contour plot above following region in posterior distribution seems highly plausible for parameters:**\n",
    "1. For alpha, `-0.2 < alpha < -0.19`\n",
    "2. For beta `-0.0075 < beta < -0.0055`\n",
    "\n",
    "Following selects all the pairs of `alpha, beta` values between the range mentioned above."
   ]
  },
  {
   "cell_type": "code",
   "execution_count": null,
   "id": "56d7949a",
   "metadata": {},
   "outputs": [],
   "source": [
    "select_sample_df= chain_samples_df[(chain_samples_df[\"alpha\"]<-0.19)&(chain_samples_df[\"alpha\"]>-0.2)&(chain_samples_df[\"beta\"]<-0.0075)&(chain_samples_df[\"beta\"]<-0.0055)]\n",
    "\n",
    "# print(select_sample_df.set_index([\"alpha\", \"beta\"]).index)\n",
    "print(\"Count of alpha-beta pairs of interest, from mid region with high desnity in contour plot above (-0.2 < alpha < -0.19, -0.0075 < beta < -0.0055): \", select_sample_df.shape[0])\n",
    "\n",
    "select_sample_df.head(3)"
   ]
  },
  {
   "cell_type": "markdown",
   "id": "30ac258c",
   "metadata": {},
   "source": [
    "**Picking a case of 3 trials with Y [0,1,1], i.e. Dog is shocked in 1st, Dogs avoids in 2nd & thereafter, effectively having an experience of 1 shock & 1 avoidance. `Considering all values of alpha & beta in range -0.2 < alpha < -0.19, -0.0075 < beta < -0.0055`**"
   ]
  },
  {
   "cell_type": "code",
   "execution_count": null,
   "id": "8d3a1329",
   "metadata": {},
   "outputs": [],
   "source": [
    "Y_li= []\n",
    "Y_val_to_param_dict= defaultdict(list)\n",
    "\n",
    "# Value -0.2 < alpha < -0.19, -0.0075 < beta < -0.0055\n",
    "for rec in select_sample_df.iterrows():# for -0.2 < alpha < -0.19, -0.0075 < beta < -0.0055\n",
    "    a,b = float(rec[1][\"alpha\"]), float(rec[1][\"beta\"])\n",
    "    res= round(np.exp(a+b), 4)\n",
    "    Y_li.append(res)\n",
    "    Y_val_to_param_dict[res].append((round(a,5),round(b,5)))# Sample-- {0.8047: [(-0.18269378, -0.034562342), (-0.18383412, -0.033494473)], 0.8027: [(-0.18709463, -0.03263992), (-0.18464606, -0.035114493)]}"
   ]
  },
  {
   "cell_type": "markdown",
   "id": "bbcef1b5",
   "metadata": {},
   "source": [
    "In above `Y_val_to_param` is a dictionary that holds value $\\exp^{\\alpha +\\beta}$ as key and tuple of corresponding $(\\alpha, \\beta)$ as value.\n",
    "\n",
    "The following plots the histogram of $\\exp^{\\alpha +\\beta}$ values obtained as an interaction of selected $\\alpha$ and $\\beta$ values from region of interest.\n",
    "\n",
    "```{caution} Following is an interactive plot, can be visualised Only in Binder.\n",
    "```"
   ]
  },
  {
   "cell_type": "code",
   "execution_count": null,
   "id": "4a081571",
   "metadata": {
    "tags": [
     "hide-output"
    ]
   },
   "outputs": [],
   "source": [
    "\n",
    "Y_for_select_sample_df = pd.DataFrame({\"Y_for -0.2 < alpha < -0.19 & -0.0075 < beta < -0.0055\": Y_li})\n",
    "fig = px.histogram(Y_for_select_sample_df, x= \"Y_for -0.2 < alpha < -0.19 & -0.0075 < beta < -0.0055\")\n",
    "title= \"observed values distribution for params Y_for -0.2 < alpha < -0.19 & -0.0075 < beta < -0.0055\"\n",
    "\n",
    "fig.update_layout(title=title, xaxis_title=\"observed values\", yaxis_title=\"count\", legend_title=\"dogs\")\n",
    "fig.show()\n",
    "print(\"Mean: %s | Median: %s\"%(np.mean(Y_li), np.quantile(Y_li, 0.5)))\n",
    "print(\"Sorted observed values: \\n\", sorted(Y_li))"
   ]
  },
  {
   "cell_type": "markdown",
   "id": "83093112",
   "metadata": {},
   "source": [
    "**For given experiment of 3 trials, from all the `Ys` with corresponding alpha-beta pairs of interest, pick 3  lower most values of `Y` for instance; Thus selecting its corresponding alpha-beta pairs**\n",
    "\n",
    "**Note:** Can add multiple observed values from histogram for comparison."
   ]
  },
  {
   "cell_type": "markdown",
   "id": "5dd2ceb6",
   "metadata": {},
   "source": [
    "Corresponding to `lowest_obs` values of `Y`, obtain `select_pairs` as list of correspoding alpha, beta pairs from  `Y_val_to_param_dict`."
   ]
  },
  {
   "cell_type": "code",
   "execution_count": null,
   "id": "87bf346e",
   "metadata": {},
   "outputs": [],
   "source": [
    "lowest_obs = sorted(Y_li)[:3]#[0.8085, 0.8094, 0.8095]# Pick values from above histogram range or sorted list\n",
    "\n",
    "selected_pairs= list(itertools.chain.from_iterable(map(lambda obs: Y_val_to_param_dict.get(obs), lowest_obs)))\n",
    "selected_pairs"
   ]
  },
  {
   "cell_type": "markdown",
   "id": "1687cb2b",
   "metadata": {},
   "source": [
    "**Following stores a dictionary of `observed y` values for pair of alpha-beta parameters**"
   ]
  },
  {
   "cell_type": "code",
   "execution_count": null,
   "id": "eff8e821",
   "metadata": {},
   "outputs": [],
   "source": [
    "def get_obs_y_dict(select_pairs, x_a, x_s):\n",
    "    \"\"\"\n",
    "    \n",
    "    Input\n",
    "    -------\n",
    "    select_pairs: pairs of (alpha, beta) selected\n",
    "    x_a: array holding avoidance count for all dogs & all trials, example for 30 dogs & 25 trials, shaped (30, 25)\n",
    "    x_s: array holding shock count for all dogs & all trials, example for 30 dogs & 25 trials, shaped (30, 25)\n",
    "    \n",
    "    Output\n",
    "    -------\n",
    "    \n",
    "    Outputs a dictionary with tuple of alpha, beta as key & observerd values of y corresponding to alpha, beta in key\n",
    "    \n",
    "    \"\"\"\n",
    "    y_dict = {}\n",
    "    for alpha, beta in select_pairs:# pair of alpha, beta\n",
    "        y_dict[(alpha, beta)] = torch.exp(alpha*x_a + beta* x_s)\n",
    "    \n",
    "    return y_dict\n",
    "\n",
    "\n",
    "obs_y_dict= get_obs_y_dict(selected_pairs, x_avoidance, x_shocked)\n",
    "\n",
    "print(\"Alpha-beta pair values as Keys to access corresponding array of inferred observations: \\n\", list(obs_y_dict.keys()))"
   ]
  },
  {
   "cell_type": "markdown",
   "id": "9b67945e",
   "metadata": {},
   "source": [
    "**Following plots scatterplots of `observed y` values for all 30 dogs for each alpha-beta pair of interest**"
   ]
  },
  {
   "cell_type": "code",
   "execution_count": null,
   "id": "6809eef1",
   "metadata": {},
   "outputs": [],
   "source": [
    "def plot_observed_y_given_parameters(observations_list, selected_pairs_list, observed_y, chain, original_obs= []):\n",
    "    \"\"\"\n",
    "    \n",
    "    Input\n",
    "    -------\n",
    "    observations_list:list of observated 'y' values from simulated 3 trials experiment computed corresponding \n",
    "                      to selected pairs of (alpha, beta)\n",
    "    selected_pairs_list: list of alpha, beta pair tuples, example :  [(-0.225, -0.01272), (-0.21844, -0.01442)]\n",
    "    \n",
    "    observed_y: dict holding observed values correspodning to pair of alpha, beta tuple as key, \n",
    "                example: {(-0.225, -0.01272): tensor([[1.0000, 0.9874,..]])}\n",
    "    chain: name of the chain from sampler\n",
    "    original_obs: original observations/ labels from given data\n",
    "\n",
    "    returns  plotly scatter plots with number of trials on X axis & corresponding probability of getting\n",
    "    shocked for each pair of (alpha, beta) passed in 'selected_pairs_list'.\n",
    "    \n",
    "    Output\n",
    "    --------\n",
    "    Plots scatter plot of all observed values of y corresponding to each given pair of alpha, beta\n",
    "    \n",
    "    \"\"\"\n",
    "    obs_column_names = [f'Dog_{ind+1}'for ind in range(dogs_data[\"Ndogs\"])]\n",
    "    \n",
    "    for record in zip(observations_list, selected_pairs_list):\n",
    "        sim_y, select_pair = record\n",
    "        print(\"\\nFor simulated y value: %s & Selected pair: %s\"%(sim_y, select_pair))\n",
    "\n",
    "        obs_y_df= pd.DataFrame(observed_y[select_pair].numpy().T, columns=obs_column_names)\n",
    "        if not original_obs is plot_observed_y_given_parameters.__defaults__[0]:\n",
    "            original_obs_column_names = list(map(lambda name:f'*{name}', obs_column_names))\n",
    "            \n",
    "            original_obs_df= pd.DataFrame(original_obs.numpy().T, columns=original_obs_column_names)\n",
    "            obs_y_df= pd.concat([obs_y_df, original_obs_df], axis=1)\n",
    "            print(\"Note: Legend *Dog_X corresponds to 'y' i.e.,original observation values\")\n",
    "        \n",
    "        obs_y_title= \"Observed values distribution for all dogs given parameter %s from %s\"%(select_pair, chain)\n",
    "        fig = px.scatter(obs_y_df, title=obs_y_title)\n",
    "        fig.update_layout(title=obs_y_title, xaxis_title=\"Trials\", yaxis_title=\"Probability of shock at trial j (𝜋𝑗)\", legend_title=\"Dog identifier\")\n",
    "        fig.show()"
   ]
  },
  {
   "cell_type": "markdown",
   "id": "bcd9ad26",
   "metadata": {},
   "source": [
    "**Also Optionally pass the `True observed y` values to `original_obs` argument for all 30 dogs to plot alongside the `observed y` from alpha-beta pairs of interest.**\n",
    "\n",
    "**_Note_**: `True observed y` are marked with legends in format `*Dog_X`\n",
    "\n",
    "```{caution} Following is an interactive plot, can be visualised Only in Binder.\n",
    "```"
   ]
  },
  {
   "cell_type": "code",
   "execution_count": null,
   "id": "b4c09e62",
   "metadata": {
    "tags": [
     "hide-output"
    ]
   },
   "outputs": [],
   "source": [
    "\n",
    "plot_observed_y_given_parameters(lowest_obs, selected_pairs, obs_y_dict, chain, original_obs= y)"
   ]
  },
  {
   "cell_type": "markdown",
   "id": "12d86d54",
   "metadata": {},
   "source": [
    "**Following plots a single scatterplots for comparison of `observed y` values for all alpha-beta pairs of interest from dense region in contourplot above, that is `-0.2 < alpha < -0.19`, `-0.0075 < beta < -0.0055`**"
   ]
  },
  {
   "cell_type": "code",
   "execution_count": null,
   "id": "f470e4e2",
   "metadata": {},
   "outputs": [],
   "source": [
    "def compare_dogs_given_parameters(pairs_to_compare, observed_y, original_obs=[], alpha_by_beta_dict= {}):\n",
    "    \"\"\"\n",
    "    \n",
    "    Input\n",
    "    --------\n",
    "    \n",
    "    pairs_to_compare: list of alpha, beta pair tuples to compare, \n",
    "                      example :  [(-0.225, -0.0127), (-0.218, -0.0144)]\n",
    "    observed_y: dict holding observed values correspodning to pair of alpha,\n",
    "                      beta tuple as key, example: {(-0.225, -0.01272): tensor([[1.0000, 0.9874,..]])} \n",
    "    alpha_by_beta_dict: holds alpha, beta pair tuples as keys & alpha/beta as value, example:\n",
    "                        {(-0.2010, -0.0018): 107.08}\n",
    "    \n",
    "    \n",
    "    Output\n",
    "    --------\n",
    "    returns a plotly scatter plot with number of trials on X axis & corresponding probability of getting\n",
    "    shocked for each pair of (alpha, beta) passed for comparison.\n",
    "    \n",
    "    \"\"\"\n",
    "    combined_pairs_obs_df= pd.DataFrame()\n",
    "    title_txt = \"\"\n",
    "    additional_txt = \"\"\n",
    "    obs_column_names = [f'Dog_{ind+1}'for ind in range(dogs_data[\"Ndogs\"])]\n",
    "    for i, select_pair in enumerate(pairs_to_compare):\n",
    "        i+=1\n",
    "        title_txt+=f'Dog_X_m_{i} corresponds to {select_pair}, '\n",
    "\n",
    "        obs_column_names_model_x =list(map(lambda name:f'{name}_m_{i}', obs_column_names))\n",
    "\n",
    "        if alpha_by_beta_dict:\n",
    "            additional_txt+=f'𝛼/𝛽 for Dog_X_m_{i} {round(alpha_by_beta_dict.get(select_pair), 2)}, '\n",
    "        \n",
    "        obs_y_df= pd.DataFrame(observed_y[select_pair].numpy().T, columns=obs_column_names_model_x)\n",
    "\n",
    "        combined_pairs_obs_df= pd.concat([combined_pairs_obs_df, obs_y_df], axis=1)\n",
    "\n",
    "    print(title_txt)\n",
    "    print(\"\\n%s\"%additional_txt)\n",
    "\n",
    "    if not original_obs is compare_dogs_given_parameters.__defaults__[0]:\n",
    "        original_obs_column_names = list(map(lambda name:f'*{name}', obs_column_names))\n",
    "\n",
    "        original_obs_df= pd.DataFrame(original_obs.numpy().T, columns=original_obs_column_names)\n",
    "        combined_pairs_obs_df= pd.concat([combined_pairs_obs_df, original_obs_df], axis=1)\n",
    "        print(\"\\nNote: Legend *Dog_X_ corresponds to 'y' i.e.,original observation values\")\n",
    "        \n",
    "    obs_y_title= \"Observed values for all dogs given parameter for a chain\"\n",
    "    fig = px.scatter(combined_pairs_obs_df, title=obs_y_title)\n",
    "    fig.update_layout(title=obs_y_title, xaxis_title=\"Trials\", yaxis_title=\"Probability of shock at trial j (𝜋𝑗)\", legend_title=\"Dog identifier\")\n",
    "    fig.show()"
   ]
  },
  {
   "cell_type": "markdown",
   "id": "255c1775",
   "metadata": {},
   "source": [
    "**Also Optionally pass the `True observed y` values to `original_obs` argument for all 30 dogs to plot alongside the `observed y` from alpha-beta pairs of interest.**\n",
    "\n",
    "**_Note_**: `True observed y` are marked with legends in format `*Dog_X`\n",
    "\n",
    "```{caution} Following is an interactive plot, can be visualised Only in Binder.\n",
    "```"
   ]
  },
  {
   "cell_type": "code",
   "execution_count": null,
   "id": "27aa70af",
   "metadata": {
    "tags": [
     "hide-output"
    ]
   },
   "outputs": [],
   "source": [
    "\n",
    "compare_dogs_given_parameters(selected_pairs, obs_y_dict, original_obs= y)"
   ]
  },
  {
   "cell_type": "markdown",
   "id": "fde9859e",
   "metadata": {},
   "source": [
    "**Observations:** The 3 individual scatter plots above correspond to 3 most optimum alpha-beta pairs from 3rd quadrant of contour plot drawn earlier; Also the scatterplot following them faciliates comparing obeserved y values for all 3 pairs at once:\n",
    "\n",
    "Data for almost all dogs in the experiment favours m1 parameters (-0.19852, -0.0156), over m3 & m2; With exceptions of Dog 6, 7 showing affinity to m3 parameters (-0.19804, -0.01568), over m2 & m1 at all levels of 30 trials."
   ]
  },
  {
   "cell_type": "markdown",
   "id": "19c2dbf6",
   "metadata": {},
   "source": [
    "**Plotting observed values y corresponding to pairs of alpha-beta with with `mean, minmum, maximum value of` $\\frac{alpha}{beta}$**"
   ]
  },
  {
   "cell_type": "markdown",
   "id": "16cb6fbc",
   "metadata": {},
   "source": [
    "**Following computes $\\frac{alpha}{beta}$ for each pair of alpha, beta and outputs pairs with `mean, maximum & minimum values`; that can therefore be marked on a single scatterplots for comparison of observed y values for all alpha-beta pairs of interest**"
   ]
  },
  {
   "cell_type": "code",
   "execution_count": null,
   "id": "96a24110",
   "metadata": {},
   "outputs": [],
   "source": [
    "def get_alpha_by_beta_records(chain_df, metrics=[\"max\", \"min\", \"mean\"]):\n",
    "    \"\"\"\n",
    "    \n",
    "    Input\n",
    "    --------\n",
    "    chain_df: dataframe holding sampled parameters for a given chain\n",
    "    \n",
    "    returns an alpha_by_beta_dictionary with alpha, beta pair tuples as keys & alpha/beta as value,\n",
    "    example: {(-0.2010, -0.0018): 107.08}\n",
    "    \n",
    "    Output\n",
    "    -------\n",
    "    Return a dictionary with values corresponding to statistics/metrics asked in argument metrics, computed\n",
    "    over alpha_by_beta column of passed dataframe.\n",
    "    \n",
    "    \n",
    "    \"\"\"\n",
    "    alpha_beta_dict= {}\n",
    "    \n",
    "    chain_df[\"alpha_by_beta\"] = chain_df[\"alpha\"]/chain_df[\"beta\"]\n",
    "    min_max_values = dict(chain_df[\"alpha_by_beta\"].describe())\n",
    "    alpha_beta_list= list(map(lambda key: chain_df[chain_df[\"alpha_by_beta\"]<=min_max_values.get(key)].sort_values([\"alpha_by_beta\"]).iloc[[-1]].set_index([\"alpha\", \"beta\"])[\"alpha_by_beta\"].to_dict(), metrics))\n",
    "\n",
    "    [alpha_beta_dict.update(element) for element in alpha_beta_list];\n",
    "    return alpha_beta_dict\n",
    "\n",
    "\n",
    "alpha_by_beta_dict = get_alpha_by_beta_records(chain_samples_df, metrics=[\"max\", \"min\", \"mean\"])# outputs a dict of type {(-0.2010, -0.0018): 107.08}\n",
    "print(\"Alpha-beta pair with value as alpha/beta: \", alpha_by_beta_dict)\n",
    "\n",
    "\n",
    "alpha_by_beta_selected_pairs= list(alpha_by_beta_dict.keys())\n",
    "alpha_by_beta_obs_y_dict = get_obs_y_dict(alpha_by_beta_selected_pairs, x_avoidance, x_shocked)# Outputs observed_values for given (alpha, beta)"
   ]
  },
  {
   "cell_type": "markdown",
   "id": "1603bc1e",
   "metadata": {},
   "source": [
    "**Following is the scatter plot for `observed y` values corresponding to pairs of `alpha, beta` yielding `minimum, maximum & mean` value for $\\frac{alpha}{beta}$.**\n",
    "\n",
    "**_Note_**: The y i.e., original observations are simultaneously plotted side by side.\n",
    "\n",
    "```{caution} Following is an interactive plot, can be visualised Only in Binder.\n",
    "```"
   ]
  },
  {
   "cell_type": "code",
   "execution_count": null,
   "id": "06906886",
   "metadata": {
    "tags": [
     "hide-output"
    ]
   },
   "outputs": [],
   "source": [
    "compare_dogs_given_parameters(alpha_by_beta_selected_pairs, alpha_by_beta_obs_y_dict, \n",
    "                              original_obs= y, alpha_by_beta_dict= alpha_by_beta_dict)"
   ]
  },
  {
   "cell_type": "markdown",
   "id": "d0be59a2",
   "metadata": {},
   "source": [
    "**Observations:** The scatter plots above corresponds to 3 pairs of alpha-beta values from contour plot drawn earlier, which correspond to maxmimum, minimum & mean value of 𝛼/𝛽. Plot faciliates comparing `obeserved y` values for all pairs with `True observed y` at once:\n",
    "\n",
    "    1. Data for for first 7 dogs in the experiment favours m1 parameters (-0.184, -0.0015) with highest 𝛼/𝛽 around 116, followed by m3 & m2 at all levels of 30 trials. Avoidance learning in these 7 dogs is captured suitablely by model 2 but most of the instances for which they are shocked, are modelled well with m1 parameters.\n",
    "    \n",
    "    2. Data for for rest 23 dogs in the experiment showed affinity for m2 parameters (-0.197, -0.016) with lowest 𝛼/𝛽 around 11, followed by m3 & m1 at all levels of 30 trials; Likewise Avoidance learning in these 23 dogs is captured suitablely by model 2 but most of the instances for which they are shocked, are modelled well with m1 parameters only.\n",
    "    \n",
    "    3. Data for Dogs 18-20 fits model 2 increasingly well after 10th trial; Whereas for Dogs 21-30 model 2 parameters fit the original data exceptionally well after 6th trial only."
   ]
  },
  {
   "cell_type": "markdown",
   "id": "122d88a0",
   "metadata": {},
   "source": [
    "### 6. Model Comparison\n",
    "**Compare Dogs model with Normal prior & Uniform prior using Deviance Information Criterion (DIC)**"
   ]
  },
  {
   "cell_type": "markdown",
   "id": "fea46f64",
   "metadata": {},
   "source": [
    "**DIC is computed as follows**\n",
    "\n",
    "$D(\\alpha,\\beta) = -2\\ \\sum_{i=1}^{n} \\log P\\ (y_{i}\\ /\\ \\alpha,\\beta)$\n",
    "\n",
    "$\\log P\\ (y_{i}\\ /\\ \\alpha,\\beta)$ is the log likehood of shocks/avoidances observed given parameter $\\alpha,\\beta$, this expression expands as follows:\n",
    "\n",
    "$$D(\\alpha,\\beta) = -2\\ \\sum_{i=1}^{30}[ y_{i}\\ (\\alpha Xa_{i}\\ +\\beta\\ Xs_{i}) + \\ (1-y_{i})\\log\\ (1\\ -\\ e^{(\\alpha Xa_{i}\\ +\\beta\\ Xs_{i})})]$$\n",
    "\n",
    "\n",
    "#### Using $D(\\alpha,\\beta)$ to Compute DIC\n",
    "\n",
    "$\\overline D(\\alpha,\\beta) = \\frac{1}{T} \\sum_{t=1}^{T} D(\\alpha,\\beta)$\n",
    "\n",
    "$\\overline \\alpha = \\frac{1}{T} \\sum_{t=1}^{T}\\alpha_{t}\\\\$\n",
    "$\\overline \\beta = \\frac{1}{T} \\sum_{t=1}^{T}\\beta_{t}$\n",
    "\n",
    "$D(\\overline\\alpha,\\overline\\beta) = -2\\ \\sum_{i=1}^{30}[ y_{i}\\ (\\overline\\alpha Xa_{i}\\ +\\overline\\beta\\ Xs_{i}) + \\ (1-y_{i})\\log\\ (1\\ -\\ e^{(\\overline\\alpha Xa_{i}\\ +\\overline\\beta\\ Xs_{i})})]$\n",
    "\n",
    "\n",
    "**Therefore finally**\n",
    "$$\n",
    "DIC\\ =\\ 2\\ \\overline D(\\alpha,\\beta)\\ -\\ D(\\overline\\alpha,\\overline\\beta)\n",
    "$$"
   ]
  },
  {
   "cell_type": "markdown",
   "id": "ce5166b4",
   "metadata": {},
   "source": [
    "**Following method computes deviance value given parameters `alpha & beta`**"
   ]
  },
  {
   "cell_type": "code",
   "execution_count": null,
   "id": "f3c962d1",
   "metadata": {},
   "outputs": [],
   "source": [
    "def calculate_deviance_given_param(parameters, x_avoidance, x_shocked, y):\n",
    "    \"\"\"\n",
    "\n",
    "    Input\n",
    "    -------\n",
    "    parameters : dictionary containing sampled values of parameters alpha & beta\n",
    "    x_avoidance: tensor holding avoidance count for all dogs & all trials, example for \n",
    "                 30 dogs & 25 trials, shaped (30, 25)\n",
    "    x_shocked:   tensor holding shock count for all dogs & all trials, example for 30 dogs\n",
    "                 & 25 trials, shaped (30, 25).\n",
    "    y:           tensor holding response for all dogs & trials, example for 30 dogs\n",
    "                 & 25 trials, shaped (30, 25).\n",
    "    \n",
    "\n",
    "    Output\n",
    "    -------\n",
    "    Computes deviance as D(Bt)\n",
    "    D(Bt)   : Summation of log likelihood / conditional probability of output, \n",
    "              given param 'Bt' over all the 'n' cases.\n",
    "\n",
    "    Returns deviance value for a pair for parameters, alpha & beta.\n",
    "    \n",
    "    \"\"\"\n",
    "\n",
    "    D_bt_ = []\n",
    "    p = parameters[\"alpha\"]*x_avoidance + parameters[\"beta\"]*x_shocked# alpha * Xai + beta * Xsi\n",
    "    p=p.double()\n",
    "    p= torch.where(p<-0.0001, p, -0.0001).float()\n",
    "    \n",
    "    Pij_vec = p.flatten().unsqueeze(1)# shapes (750, 1)\n",
    "    Yij_vec= y.flatten().unsqueeze(0)# shapes (1, 750)\n",
    "    \n",
    "    # D_bt = -2 * Summation_over_i-30 (yi.(alpha.Xai + beta.Xsi)+ (1-yi).log (1- e^(alpha.Xai + beta.Xsi)))\n",
    "    D_bt= torch.mm(Yij_vec, Pij_vec) + torch.mm(1-Yij_vec, torch.log(1- torch.exp(Pij_vec)))\n",
    "    D_bt= -2*D_bt.squeeze().item()\n",
    "    return D_bt\n",
    "\n",
    "def calculate_mean_deviance(samples, x_avoidance, x_shocked, y):\n",
    "    \"\"\"\n",
    "    \n",
    "    Input\n",
    "    -------\n",
    "    samples : dictionary containing mean of sampled values of parameters alpha & beta.\n",
    "    x_avoidance: tensor holding avoidance count for all dogs & all trials, example for \n",
    "                 30 dogs & 25 trials, shaped (30, 25).\n",
    "    x_shocked:   tensor holding shock count for all dogs & all trials, example for 30 dogs\n",
    "                 & 25 trials, shaped (30, 25).\n",
    "    y:           tensor holding response for all dogs & trials, example for 30 dogs\n",
    "                 & 25 trials, shaped (30, 25).\n",
    "\n",
    "    \n",
    "    Output\n",
    "    -------\n",
    "    Computes mean deviance as D(Bt)_bar\n",
    "    D(Bt)_bar: Average of D(Bt) values calculated for each \n",
    "                   Bt (Bt is a single param value from chain of samples)\n",
    "    Returns mean deviance value for a pair for parameters, alpha & beta.\n",
    "    \n",
    "    \n",
    "    \"\"\"\n",
    "    samples_count = list(samples.values())[0].size()[0]\n",
    "    all_D_Bts= []\n",
    "    for index in range(samples_count):# pair of alpha, beta\n",
    "        samples_= dict(map(lambda param: (param, samples.get(param)[index]), samples.keys()))\n",
    "        \n",
    "        D_Bt= calculate_deviance_given_param(samples_, x_avoidance, x_shocked, y)\n",
    "        all_D_Bts.append(D_Bt)\n",
    "    \n",
    "    D_Bt_mean = torch.mean(torch.tensor(all_D_Bts))\n",
    "    \n",
    "    D_Bt_mean =D_Bt_mean.squeeze().item()\n",
    "    \n",
    "    return D_Bt_mean\n",
    "        "
   ]
  },
  {
   "cell_type": "markdown",
   "id": "69c597f7",
   "metadata": {},
   "source": [
    "**Following method computes `deviance information criterion` for a given bayesian model & chains of sampled parameters `alpha & beta`**"
   ]
  },
  {
   "cell_type": "code",
   "execution_count": null,
   "id": "fa38dd80",
   "metadata": {},
   "outputs": [],
   "source": [
    "def DIC(sample_chains, x_avoidance, x_shocked, y):\n",
    "    \"\"\"\n",
    "        \n",
    "    Input\n",
    "    -------\n",
    "    sample_chains : dictionary containing multiple chains of sampled values, with chain name as\n",
    "                    key and sampled values of parameters alpha & beta.\n",
    "    x_avoidance: tensor holding avoidance count for all dogs & all trials, example for \n",
    "                 30 dogs & 25 trials, shaped (30, 25).\n",
    "    x_shocked:   tensor holding shock count for all dogs & all trials, example for 30 dogs\n",
    "                 & 25 trials, shaped (30, 25).\n",
    "    y:           tensor holding response for all dogs & trials, example for 30 dogs\n",
    "                 & 25 trials, shaped (30, 25).\n",
    "            \n",
    "    Output\n",
    "    -------\n",
    "    Computes DIC as follows\n",
    "    D_mean_parameters: 𝐷(𝛼_bar,𝛽_bar), Summation of log likelihood / conditional probability of output, \n",
    "                   given average of each param 𝛼, 𝛽, over 's' samples, across all the 'n' cases.\n",
    "    D_Bt_mean: 𝐷(𝛼,𝛽)_bar, Summation of log likelihood / conditional probability of output, \n",
    "                   given param 𝛼, 𝛽, across all the 'n' cases.\n",
    "        \n",
    "    𝐷𝐼𝐶 is computed as 𝐷𝐼𝐶 = 2 𝐷(𝛼,𝛽)_bar − 𝐷(𝛼_bar,𝛽_bar)\n",
    "    \n",
    "    returns Deviance Information Criterion for a chain alpha & beta sampled values.\n",
    "\n",
    "\n",
    "    \"\"\"\n",
    "    dic_list= []\n",
    "    for chain, samples in sample_chains.items():\n",
    "        samples= dict(map(lambda param: (param, torch.tensor(samples.get(param))), samples.keys()))# np array to tensors\n",
    "\n",
    "        mean_parameters = dict(map(lambda param: (param, torch.mean(samples.get(param))), samples.keys()))\n",
    "        D_mean_parameters = calculate_deviance_given_param(mean_parameters, x_avoidance, x_shocked, y)\n",
    "\n",
    "        D_Bt_mean = calculate_mean_deviance(samples, x_avoidance, x_shocked, y)\n",
    "        dic = round(2* D_Bt_mean - D_mean_parameters,3)\n",
    "        dic_list.append(dic)\n",
    "        print(\". . .DIC for %s: %s\"%(chain, dic))\n",
    "    print(\"\\n. .Mean Deviance information criterion for all chains: %s\\n\"%(round(np.mean(dic_list), 3)))\n",
    "\n",
    "def compare_DICs_given_model(x_avoidance, x_shocked, y, **kwargs):\n",
    "    \"\"\"\n",
    "    \n",
    "    Input\n",
    "    --------\n",
    "    x_avoidance: tensor holding avoidance count for all dogs & all trials, example for \n",
    "                 30 dogs & 25 trials, shaped (30, 25).\n",
    "    x_shocked:   tensor holding shock count for all dogs & all trials, example for 30 dogs\n",
    "                 & 25 trials, shaped (30, 25).\n",
    "    y:           tensor holding response for all dogs & trials, example for 30 dogs\n",
    "                 & 25 trials, shaped (30, 25).\n",
    "    kwargs: dict of type {\"model_name\": sample_chains_dict}\n",
    "    \n",
    "    Output\n",
    "    --------\n",
    "    Compares Deviance Information Criterion value for a multiple bayesian models.\n",
    "    \n",
    "    \n",
    "    \"\"\"\n",
    "    for model_name, sample_chains in kwargs.items():\n",
    "        print(\"%s\\n\\nFor model : %s\"%(\"_\"*30, model_name))\n",
    "        DIC(sample_chains, x_avoidance, x_shocked, y)"
   ]
  },
  {
   "cell_type": "markdown",
   "id": "b8bca2c1",
   "metadata": {},
   "source": [
    "**Define alternate model with different prior such as uniform distribution**\n",
    "\n",
    "The following model is defined in the same manner using Pyro as per the following expression of generative model for this dataset, just with modification of prior distribution to `Uniform` rather than `Normal` as follows:\n",
    "\n",
    "$\\pi_j$  ~   $bern\\ (\\exp \\ (\\alpha.XAvoidance + \\beta.XShocked)\\ )$,  $prior\\ \\alpha$ ~ $U(0., 316.)$,  $\\beta$ ~ $U(0., 316.)$"
   ]
  },
  {
   "cell_type": "code",
   "execution_count": null,
   "id": "7ff64274",
   "metadata": {},
   "outputs": [],
   "source": [
    "# Dogs model with uniform prior\n",
    "def DogsModelUniformPrior(x_avoidance, x_shocked, y):\n",
    "        \"\"\"\n",
    "    Input\n",
    "    -------\n",
    "    x_avoidance: tensor holding avoidance count for all dogs & all trials, example for \n",
    "                 30 dogs & 25 trials, shaped (30, 25)\n",
    "    x_shocked:   tensor holding shock count for all dogs & all trials, example for 30 dogs\n",
    "                 & 25 trials, shaped (30, 25).\n",
    "    y:           tensor holding response for all dogs & trials, example for 30 dogs\n",
    "                 & 25 trials, shaped (30, 25).\n",
    "    \n",
    "    Output\n",
    "    --------\n",
    "    Implements pystan model: {\n",
    "              alpha ~ uniform(0.0, 316.2);\n",
    "              beta  ~ uniform(0.0, 316.2);\n",
    "              for(dog in 1:Ndogs)  \n",
    "                for (trial in 2:Ntrials)  \n",
    "                  y[dog, trial] ~ bernoulli(exp(alpha * xa[dog, trial] + beta * xs[dog, trial]));}\n",
    "    \n",
    "    \"\"\"\n",
    "    alpha = pyro.sample(\"alpha\", dist.Uniform(-10, -0.00001))\n",
    "    beta = pyro.sample(\"beta\", dist.Uniform(-10, -0.00001))\n",
    "    with pyro.plate(\"data\"):\n",
    "        pyro.sample(\"obs\", dist.Bernoulli(torch.exp(alpha*x_avoidance + beta * x_shocked)), obs=y)\n",
    "\n",
    "hmc_sample_chains_uniform_prior= get_hmc_n_chains(DogsModelUniformPrior, x_avoidance, x_shocked, y, num_chains=4, base_count = 900)"
   ]
  },
  {
   "cell_type": "markdown",
   "id": "a2432906",
   "metadata": {},
   "source": [
    "**compute & compare `deviance information criterion` for a multiple bayesian models**"
   ]
  },
  {
   "cell_type": "code",
   "execution_count": null,
   "id": "04c535f4",
   "metadata": {},
   "outputs": [],
   "source": [
    "compare_DICs_given_model(x_avoidance, x_shocked, y, Dogs_normal_prior= hmc_sample_chains, Dogs_uniform_prior= hmc_sample_chains_uniform_prior)"
   ]
  },
  {
   "cell_type": "markdown",
   "id": "fda96c39",
   "metadata": {},
   "source": [
    "_______________"
   ]
  }
 ],
 "metadata": {
  "jupytext": {
   "text_representation": {
    "extension": ".md",
    "format_name": "myst",
    "format_version": 0.13,
    "jupytext_version": "1.11.5"
   }
  },
  "kernelspec": {
   "display_name": "pytorch_x86",
   "language": "python",
   "name": "pytorch_x86"
  },
  "source_map": [
   12,
   27,
   42,
   48,
   96,
   143,
   149,
   187,
   193,
   216,
   222,
   254,
   258,
   263,
   269,
   274,
   279,
   288,
   305,
   309,
   355,
   360,
   364,
   370,
   374,
   380,
   386,
   403,
   407,
   426,
   430,
   441,
   462,
   466,
   481,
   485,
   547,
   554,
   559,
   563,
   573,
   577,
   581,
   585,
   640,
   644,
   647,
   653,
   657,
   661,
   667,
   676,
   682,
   702,
   706,
   714,
   716,
   724,
   731,
   735,
   745,
   753,
   765,
   771,
   775,
   780,
   784,
   810,
   814,
   855,
   863,
   868,
   872,
   924,
   932,
   937,
   943,
   947,
   951,
   985,
   993,
   998,
   1008,
   1013,
   1040,
   1044,
   1119,
   1123,
   1187,
   1195,
   1224,
   1228,
   1230
  ]
 },
 "nbformat": 4,
 "nbformat_minor": 5
}